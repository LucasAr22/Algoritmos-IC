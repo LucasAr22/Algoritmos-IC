{
 "cells": [
  {
   "cell_type": "markdown",
   "metadata": {},
   "source": [
    "### Obtendo o número de variantes por combinação de letras das charadas SEND+MORE=MONEY e WOW+HOT=TEA"
   ]
  },
  {
   "cell_type": "code",
   "execution_count": 5,
   "metadata": {},
   "outputs": [],
   "source": [
    "import itertools as it\n",
    "import time\n",
    "import timeit\n",
    "import numpy as np\n",
    "import scipy as sc\n",
    "import matplotlib.pyplot as plt\n",
    "import random \n",
    "import math"
   ]
  },
  {
   "cell_type": "markdown",
   "metadata": {},
   "source": [
    "### Criando Listagem Amostral de agentes"
   ]
  },
  {
   "cell_type": "code",
   "execution_count": 6,
   "metadata": {},
   "outputs": [],
   "source": [
    "def Cria_Ensamble(Lista, num_letras, num_combinacoes):\n",
    "    i = 0\n",
    "    Ensamble = []\n",
    "    #inicio = timeit.default_timer()\n",
    "    while(i < num_combinacoes):\n",
    "        elem = random.sample(Lista,num_letras)\n",
    "        if(elem not in Ensamble):\n",
    "            Ensamble.append(elem)\n",
    "            i+=1    \n",
    "    #fim = timeit.default_timer()\n",
    "    #print(\"Time = %f\"%(fim-inicio))\n",
    "    return Ensamble"
   ]
  },
  {
   "cell_type": "code",
   "execution_count": 11,
   "metadata": {},
   "outputs": [],
   "source": [
    "Lista = ['A','e','n','A','m','o','A','e','m','o','n','e','A']\n",
    "Ensamble = Cria_Ensamble(Lista,13,2000)\n",
    "#File_Combinacoes(Ensamble)"
   ]
  },
  {
   "cell_type": "code",
   "execution_count": 13,
   "metadata": {},
   "outputs": [
    {
     "name": "stdout",
     "output_type": "stream",
     "text": [
      "Exemplo: ['o', 'A', 'w', 'o', 'A', 'w', 't', 't', 'A']\n"
     ]
    }
   ],
   "source": [
    "Lista = ['A','A','A','t','t','w','w','o','o']\n",
    "Ensamble_2 = Cria_Ensamble(Lista,9,1000)\n",
    "print('Exemplo:',Ensamble_2[0])"
   ]
  },
  {
   "cell_type": "markdown",
   "metadata": {},
   "source": [
    "### Criando Combinações de Números "
   ]
  },
  {
   "cell_type": "code",
   "execution_count": 14,
   "metadata": {},
   "outputs": [],
   "source": [
    "def Cria_Combinacao_Numeros(n):\n",
    "    aux = [i for i in range(10)]\n",
    "    lista_numeros = it.permutations(aux, n)\n",
    "    lista_numeros = [list(i) for i in lista_numeros]\n",
    "    print(\"Número de combinações:\" + str(len(lista_numeros)))\n",
    "    return lista_numeros"
   ]
  },
  {
   "cell_type": "code",
   "execution_count": 15,
   "metadata": {},
   "outputs": [
    {
     "name": "stdout",
     "output_type": "stream",
     "text": [
      "Número de combinações:1814400\n"
     ]
    }
   ],
   "source": [
    "l_numeros = Cria_Combinacao_Numeros(8)"
   ]
  },
  {
   "cell_type": "markdown",
   "metadata": {},
   "source": [
    "### Transforma Combinação em números(Caso SEND + MORE = MONEY) "
   ]
  },
  {
   "cell_type": "code",
   "execution_count": 16,
   "metadata": {},
   "outputs": [],
   "source": [
    "def Transforma_Combinacao_Numeros(lista_numero, lista_palavra):\n",
    "    num = []\n",
    "    num1 = []\n",
    "    num2 = []\n",
    "    res = []\n",
    "    i = 0\n",
    "    countA = 0\n",
    "    for i in lista_palavra:\n",
    "        if i == 'A':\n",
    "            if countA == 0:\n",
    "                num.append(lista_numero[0])\n",
    "            elif countA == 1:\n",
    "                num.append(lista_numero[1])\n",
    "            elif countA == 2:\n",
    "                num.append(lista_numero[2])\n",
    "            elif countA == 3:\n",
    "                num.append(lista_numero[3])\n",
    "            countA+=1\n",
    "        elif i == 'm':\n",
    "            num.append(lista_numero[4])\n",
    "        elif i == 'o':\n",
    "            num.append(lista_numero[5])\n",
    "        elif i == 'n':\n",
    "            num.append(lista_numero[6])\n",
    "        elif i == 'e':\n",
    "            num.append(lista_numero[7])\n",
    "    for i in range(len(num)):\n",
    "        if(i<4):\n",
    "            num1.append(num[i])\n",
    "        elif(i>3 and i<8):\n",
    "            num2.append(num[i])\n",
    "        elif(i>=7):\n",
    "            res.append(num[i])\n",
    "    return num1,num2,res"
   ]
  },
  {
   "cell_type": "code",
   "execution_count": 17,
   "metadata": {},
   "outputs": [
    {
     "name": "stdout",
     "output_type": "stream",
     "text": [
      "[7, 0, 6, 1]\n",
      "[5, 7, 6, 2]\n",
      "[3, 4, 5, 7, 4]\n"
     ]
    }
   ],
   "source": [
    "num1,num2,num3 = Transforma_Combinacao_Numeros(l_numeros[0],Ensamble[0])\n",
    "print( str(num1) + '\\n' + str(num2) + '\\n' + str(num3) )"
   ]
  },
  {
   "cell_type": "markdown",
   "metadata": {},
   "source": [
    "### Transformação para HOTTEAWOW "
   ]
  },
  {
   "cell_type": "code",
   "execution_count": 18,
   "metadata": {},
   "outputs": [],
   "source": [
    "def Transforma_Letra_Numero(lista_numero, lista_palavra):\n",
    "    num = []\n",
    "    num1 = []\n",
    "    num2 = []\n",
    "    res = []\n",
    "    i = 0\n",
    "    countA = 0\n",
    "    for i in lista_palavra:\n",
    "        if i == 'A':\n",
    "            if countA == 0:\n",
    "                num.append(lista_numero[0])\n",
    "            elif countA == 1:\n",
    "                num.append(lista_numero[1])\n",
    "            elif countA == 2:\n",
    "                num.append(lista_numero[2])\n",
    "            countA+=1\n",
    "        elif i == 'o':\n",
    "            num.append(lista_numero[3])\n",
    "        elif i == 't':\n",
    "            num.append(lista_numero[4])\n",
    "        elif i == 'w':\n",
    "            num.append(lista_numero[5])\n",
    "    for i in range(len(num)):\n",
    "        if(i<3):\n",
    "            num1.append(num[i])\n",
    "        elif(i>2 and i<6):\n",
    "            num2.append(num[i])\n",
    "        elif(i>=6):\n",
    "            res.append(num[i])\n",
    "    return num1,num2,res"
   ]
  },
  {
   "cell_type": "code",
   "execution_count": 19,
   "metadata": {},
   "outputs": [],
   "source": [
    "#L_numero = Cria_Combinacao_Numeros(6)\n",
    "#Ensamble = Cria_Ensamble()\n",
    "#num1,num2,num3 = Transforma_Letra_Numero([1,2,3,4,5,6],Ensamble[3])\n",
    "#print( str(num1) + '\\n' + str(num2) + '\\n' + str(num3) )"
   ]
  },
  {
   "cell_type": "markdown",
   "metadata": {},
   "source": [
    "### Função que Verífica se a combinação está correta"
   ]
  },
  {
   "cell_type": "code",
   "execution_count": 12,
   "metadata": {},
   "outputs": [],
   "source": [
    "def Resultado_soma(num1,num2):\n",
    "    ## RESULTADO DA SOMA DOS NUMEROS\n",
    "    res = int(\"\".join(map(str, num1))) + int(\"\".join(map(str, num2)))\n",
    "    res = [int(x) for x in str(res)]\n",
    "    return res "
   ]
  },
  {
   "cell_type": "code",
   "execution_count": 13,
   "metadata": {},
   "outputs": [],
   "source": [
    "def Verifica_combinacao(num1,num2,res1):\n",
    "    #res1 -> resposta da combinao\n",
    "    #res2 -> resposta da soma de num1 e num2\n",
    "    res2 = Resultado_soma(num1,num2)\n",
    "    if(res1 == res2):\n",
    "        if (num1[0] != 0 and num2[0] != 0 and res1[0] != 0):     \n",
    "            return 1\n",
    "        else:\n",
    "            return 0\n",
    "    else:\n",
    "        return 0"
   ]
  },
  {
   "cell_type": "code",
   "execution_count": 14,
   "metadata": {},
   "outputs": [
    {
     "name": "stdout",
     "output_type": "stream",
     "text": [
      " [1, 1, 2, 2]\n",
      "+[3, 4, 5, 6]\n",
      "=[4, 5, 7, 8]\n",
      "\n",
      "Válido\n"
     ]
    }
   ],
   "source": [
    "num1 = [1,1,2,2]\n",
    "num2 = [3,4,5,6]\n",
    "res1 = [4,5,7,8]\n",
    "print(' ' + str(num1) + '\\n+' + str(num2) + '\\n' + '=' + str(Resultado_soma(num1,num2)))\n",
    "if Verifica_combinacao(num1,num2,res1):\n",
    "    print('\\nVálido')\n",
    "else: \n",
    "    print('Inválido')"
   ]
  },
  {
   "cell_type": "markdown",
   "metadata": {},
   "source": [
    "### Funções Estatísticas "
   ]
  },
  {
   "cell_type": "code",
   "execution_count": 15,
   "metadata": {},
   "outputs": [],
   "source": [
    "def Estatisticas(lista):\n",
    "    np_res = np.array(lista)\n",
    "    print(len(lista))\n",
    "    if len(np_res) == 0:\n",
    "        print(\"Tamanho = 0\")\n",
    "        print(sum(np_res)/len(lista))\n",
    "    media = sum(np_res)/len(lista)\n",
    "    soma = 0\n",
    "    _variancia = 0\n",
    "    for valor in np_res:\n",
    "        soma += math.pow( (valor - media), 2)\n",
    "    _variancia = soma / float(len(lista))\n",
    "    return media, _variancia"
   ]
  },
  {
   "cell_type": "code",
   "execution_count": 16,
   "metadata": {},
   "outputs": [],
   "source": [
    "#After_Code(resultados)\n",
    "#resultados"
   ]
  },
  {
   "cell_type": "code",
   "execution_count": 17,
   "metadata": {},
   "outputs": [
    {
     "name": "stdout",
     "output_type": "stream",
     "text": [
      "10\n",
      "Média :4.5\n",
      "Variância :8.25\n"
     ]
    }
   ],
   "source": [
    "lista = [i for i in range(10)]\n",
    "media,variancia = Estatisticas(lista)\n",
    "print('Média :' + str(media) + '\\nVariância :' + str(variancia))"
   ]
  },
  {
   "cell_type": "code",
   "execution_count": 18,
   "metadata": {},
   "outputs": [],
   "source": [
    "#num -> Número de Combinações POR Resposta\n",
    "def Lista_Histograma(Answers,num):\n",
    "    comb = np.zeros(num)\n",
    "    for i in range(num):\n",
    "        for j in Answers:\n",
    "            if(j == i):\n",
    "                comb[i]+=1\n",
    "    return comb"
   ]
  },
  {
   "cell_type": "markdown",
   "metadata": {},
   "source": [
    "## Arquivos "
   ]
  },
  {
   "cell_type": "markdown",
   "metadata": {},
   "source": [
    "### Leitura "
   ]
  },
  {
   "cell_type": "code",
   "execution_count": null,
   "metadata": {},
   "outputs": [],
   "source": [
    "# Leitura do arquivo de Combinacoes Possiveis x Combinacao \n",
    "\n",
    "file = open('Amostra Aleatória (sendmoremoney).txt','r')\n",
    "res = [int(i) for i in file.readlines()]\n"
   ]
  },
  {
   "cell_type": "code",
   "execution_count": 46,
   "metadata": {},
   "outputs": [
    {
     "name": "stdout",
     "output_type": "stream",
     "text": [
      "500\n"
     ]
    }
   ],
   "source": [
    "#LEITURA O ARQUIVO DE COMBINAÇÕES E ACRESCENTA NA LISTA ENSEMBLE\n",
    "file = open('Amostra Aleatória (sendmoremoney).txt','r')\n",
    "\n",
    "Ensamble = [ list(i.strip()) for i in file.readlines()] \n",
    "#file.close()\n",
    "Palavras = []\n",
    "count = 0\n",
    "for i in Ensamble:\n",
    "    if count >= 1500 and count < 2000:\n",
    "        Palavras.append(i)\n",
    "    count += 1\n",
    "print(len(Palavras))\n",
    "file.close()"
   ]
  },
  {
   "cell_type": "markdown",
   "metadata": {},
   "source": [
    "### Escrita "
   ]
  },
  {
   "cell_type": "code",
   "execution_count": 8,
   "metadata": {},
   "outputs": [],
   "source": [
    "#ESCREVE COMBINAÇÕES DE PALAVRAS NO ARQUIVO\n",
    "def File_Combinacoes(Ensamble):\n",
    "    file = open('Amostra Aleatória (sendmoremoney).txt','w')\n",
    "    for i in Ensamble:\n",
    "        file.writelines(\"\".join(i) + '\\n')\n",
    "    file.close()"
   ]
  },
  {
   "cell_type": "code",
   "execution_count": 9,
   "metadata": {},
   "outputs": [],
   "source": [
    "#ESCREVE RESULTADOS NO ARQUIVO\n",
    "def File_Resultados(list_answers):\n",
    "    file = open('Amostra Sendmoremoney 3.txt.txt','w')\n",
    "    for i in list_answers:\n",
    "        file.writelines(str(i) + '\\n')\n",
    "    file.close()"
   ]
  },
  {
   "cell_type": "code",
   "execution_count": 10,
   "metadata": {},
   "outputs": [],
   "source": [
    "#ESCREVE ARQUIVO HISTOGRAMA\n",
    "def File_Histograma(L_Histograma):\n",
    "    file = open('Lista Resultados 2.txt','w')\n",
    "    for i in L_Histograma:\n",
    "        file.writelines(str(i) + '\\n')\n",
    "    file.close()"
   ]
  },
  {
   "cell_type": "markdown",
   "metadata": {},
   "source": [
    "## RUN"
   ]
  },
  {
   "cell_type": "code",
   "execution_count": 21,
   "metadata": {},
   "outputs": [],
   "source": [
    "def Func_Principal_2(Ensamble, num_letrasI, num_letrasD, num_combinacoes):\n",
    "    list_answers = []\n",
    "    ans = 0\n",
    "    lista_numeros = Cria_Combinacao_Numeros(num_letrasD)\n",
    "    inicio = timeit.default_timer()\n",
    "            ## BLOCO 1 ##\n",
    "    ######################################\n",
    "    for palavra in Ensamble:\n",
    "        for combinacao in lista_numeros:\n",
    "            #num1,num2,resp1 = Transforma_Combinacao_Numeros(combinacao,palavra)\n",
    "            num1,num2,resp1 = Transforma_Combinacao_Numeros(combinacao,palavra)\n",
    "            ans += Verifica_combinacao(num1,num2,resp1)\n",
    "        list_answers.append(ans)\n",
    "        ans = 0\n",
    "    ######################################\n",
    "    fim = timeit.default_timer()\n",
    "    print(\"%f\"%(fim-inicio))\n",
    "    ######################################\n",
    "    return list_answers"
   ]
  },
  {
   "cell_type": "code",
   "execution_count": 20,
   "metadata": {},
   "outputs": [],
   "source": [
    "#res = Func_Principal_2(Palavras,13,8,1)\n",
    "#File_Resultados(res)\n",
    "#print(res)"
   ]
  },
  {
   "cell_type": "code",
   "execution_count": 32,
   "metadata": {},
   "outputs": [],
   "source": [
    "def Func_Principal(Palavra, num_letrasI, num_letrasD, num_combinacoes):\n",
    "    #FUNÇÃO QUE PERCORRE O PROGRAMA\n",
    "    inicio2 = timeit.default_timer()\n",
    "    \n",
    "            ## BLOCO 1 ##\n",
    "    ######################################\n",
    "    #Ensamble = []\n",
    "    #Ensamble.append(Palavra)\n",
    "    #Ensamble = Cria_Ensamble(Palavra, num_letrasI, num_combinacoes)\n",
    "    #Ensamble = Palavra\n",
    "    lista_numeros = Cria_Combinacao_Numeros(num_letrasD)\n",
    "    File_Combinacoes(Ensamble)\n",
    "    list_answers = []\n",
    "    ans = 0\n",
    "    ######################################\n",
    "    fim2 = timeit.default_timer()\n",
    "    print('Tempo Parte 1: %f'%(fim2-inicio2))\n",
    "    \n",
    "    \n",
    "    inicio = timeit.default_timer()\n",
    "            ## BLOCO 2 ##\n",
    "    ######################################\n",
    "    for palavra in Ensamble:\n",
    "        for combinacao in lista_numeros:\n",
    "            #num1,num2,resp1 = Transforma_Combinacao_Numeros(combinacao,palavra)\n",
    "            num1,num2,resp1 = Transforma_Combinacao_Numeros(combinacao,palavra)\n",
    "            ans += Verifica_combinacao(num1,num2,resp1)\n",
    "        list_answers.append(ans)\n",
    "        ans = 0\n",
    "    ######################################\n",
    "    fim = timeit.default_timer()\n",
    "    print(\"%f\"%(fim-inicio))\n",
    "    ######################################\n",
    "    return list_answers"
   ]
  },
  {
   "cell_type": "code",
   "execution_count": 22,
   "metadata": {},
   "outputs": [],
   "source": [
    "#res = ['w','o','w','A','o','t','t','A','A']\n",
    "#Lista_Letras = ['A','e','n','A','m','o','A','e','m','o','n','e','A']\n",
    "#Lista = ['A','A','A','t','t','w','w','o','o']\n",
    "\n",
    "num_letrasI = 13\n",
    "num_letrasD = 8\n",
    "num_combinacoes = 1\n",
    "#resultados = Func_Principal(Lista,num_letrasI,num_letrasD,num_combinacoes)"
   ]
  }
 ],
 "metadata": {
  "kernelspec": {
   "display_name": "Python 3",
   "language": "python",
   "name": "python3"
  },
  "language_info": {
   "codemirror_mode": {
    "name": "ipython",
    "version": 3
   },
   "file_extension": ".py",
   "mimetype": "text/x-python",
   "name": "python",
   "nbconvert_exporter": "python",
   "pygments_lexer": "ipython3",
   "version": "3.7.6"
  }
 },
 "nbformat": 4,
 "nbformat_minor": 4
}
